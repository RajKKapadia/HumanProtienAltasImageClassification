{
  "cells": [
    {
      "metadata": {
        "_uuid": "8f2839f25d086af736a60e9eeb907d3b93b6e0e5",
        "_cell_guid": "b1076dfc-b9ad-4769-8c92-a6c4dae69d19",
        "trusted": true
      },
      "cell_type": "code",
      "source": "import pandas as pd\nimport numpy as np\nfrom PIL import Image\n\n# Let's import packages\nfrom keras.layers import Dense, BatchNormalization, Dropout\nfrom keras.layers import Flatten, Conv2D, MaxPooling2D, AveragePooling2D\nfrom keras.models import Sequential\n\nfrom keras.optimizers import SGD\nfrom keras.callbacks import ReduceLROnPlateau, EarlyStopping",
      "execution_count": null,
      "outputs": []
    },
    {
      "metadata": {
        "_cell_guid": "79c7e3d0-c299-4dcb-8224-4455121ee9b0",
        "_uuid": "d629ff2d2480ee46fbb7e2d37f6b5fab8052498a",
        "trusted": true
      },
      "cell_type": "code",
      "source": "train_csv = pd.read_csv(\"../input/train.csv\")\n\nTRAIN_PATH = \"../input/train/\"\nTEST_PATH = \"../input/test/\"\ncolours = [\"red\", \"green\", \"blue\", \"yellow\"]\nids = train_csv[\"Id\"]\ntargets = train_csv[\"Target\"]\nbatches = [1000, 1000, 1000, 1000, 1000, 1000, 1000, 1000, 1000, 1000,\n           1000, 1000, 1000, 1000, 1000, 1000, 1000, 1000, 1000, 1000,\n           1000, 1000, 1000, 1000, 1000, 1000, 1000, 1000, 1000, 1000,\n           1072]\nnumb_labels = 28",
      "execution_count": null,
      "outputs": []
    },
    {
      "metadata": {
        "trusted": true,
        "_uuid": "8c51c58882bb39d1fa25981b9073472aabcde089"
      },
      "cell_type": "code",
      "source": "model = Sequential()\n\nmodel.add(Conv2D(16, kernel_size=(7,7), padding='same', activation='relu', input_shape=(512, 512, 1), kernel_initializer='uniform'))\nmodel.add(Conv2D(16, kernel_size=(7,7), padding='same', activation='relu', kernel_initializer='uniform'))\nmodel.add(BatchNormalization())\nmodel.add(MaxPooling2D(pool_size=(4,4)))\n\nmodel.add(Conv2D(32, kernel_size=(5,5), padding='same', activation='relu', kernel_initializer='uniform'))\nmodel.add(Conv2D(32, kernel_size=(5,5), padding='same', activation='relu', kernel_initializer='uniform'))\nmodel.add(BatchNormalization())\nmodel.add(MaxPooling2D(pool_size=(4,4)))\n\nmodel.add(Conv2D(64, kernel_size=(3,3), padding='same', activation='relu', kernel_initializer='uniform'))\nmodel.add(Conv2D(64, kernel_size=(3,3), padding='same', activation='relu', kernel_initializer='uniform'))\nmodel.add(BatchNormalization())\nmodel.add(MaxPooling2D(pool_size=(2,2)))\n\nmodel.add(Conv2D(128, kernel_size=(1,1), padding='same', activation='relu', kernel_initializer='uniform'))\nmodel.add(Conv2D(128, kernel_size=(1,1), padding='same', activation='relu', kernel_initializer='uniform'))\nmodel.add(BatchNormalization())\nmodel.add(AveragePooling2D(pool_size=(2,2)))\n\nmodel.add(Flatten())\n\nmodel.add(Dense(256, activation='relu'))\nmodel.add(Dropout(0.2))\n\nmodel.add(Dense(28, activation='sigmoid'))\n\nsgd = SGD(lr=0.01, momentum=0.0, decay=0.0, nesterov=False)\n\nmodel.compile(optimizer=sgd, loss='binary_crossentropy', metrics=['accuracy'])\n\nmodel.summary()",
      "execution_count": null,
      "outputs": []
    },
    {
      "metadata": {
        "trusted": true,
        "_uuid": "8a330c903be4200f5fc2285fd27858f480f02e96"
      },
      "cell_type": "code",
      "source": "batch_id = 1\n\n# Model fitting parameters\nreduce_lr = ReduceLROnPlateau(monitor='val_loss', factor=0.5, patience=3, min_lr=0.00001, verbose=1)\nearly_stopping = EarlyStopping(monitor='val_loss', patience=5, verbose=1, mode='auto')\n\nindex = 0\n\nfor batch in batches:\n    print(\"Processing batch number \" + str(batch_id))\n    # Create empty images and labels\n    images = np.zeros((batch, 512, 512, 1))\n    labels = np.zeros((batch, numb_labels))\n    \n    for i in range(batch):\n        green = np.asarray(Image.open(TRAIN_PATH+ids[index]+\"_\"+colours[1]+\".png\"))\n        index += 1\n        images[i] = green.reshape(512, 512, 1)/255\n        \n        target = targets[i].split(\" \")\n        \n        for value in target:\n            labels[i, int(value)] = 1\n            \n    print(\"Fitting the data to the model.\")\n    model.fit(images, labels, batch_size=16, epochs=10, verbose=1, validation_split=0.1, callbacks=[reduce_lr, early_stopping])\n    batch_id += 1",
      "execution_count": null,
      "outputs": []
    },
    {
      "metadata": {
        "trusted": true,
        "_uuid": "65128f7271038a81941c17e8cade4e08f5e1de3e"
      },
      "cell_type": "code",
      "source": "test_csv = pd.read_csv(\"../input/sample_submission.csv\")\nids_test = test_csv[\"Id\"]",
      "execution_count": null,
      "outputs": []
    },
    {
      "metadata": {
        "trusted": true,
        "_uuid": "442e77a9d1ac2e4759bacff4f8551a675277b0d8"
      },
      "cell_type": "code",
      "source": "y_pred = np.zeros((len(ids_test), numb_labels))\nimage_test = np.zeros((1, 512, 512, 1))\n\nfor i in range(len(ids_test)):\n    \n    green = np.asarray(Image.open(TEST_PATH+ids_test[i]+\"_\"+colours[1]+\".png\"))\n    image_test[0] = green.reshape(512, 512, 1)/255\n    \n    y_pred[i] = model.predict(image_test, verbose=1)",
      "execution_count": null,
      "outputs": []
    },
    {
      "metadata": {
        "trusted": true,
        "_uuid": "d7b15c0676aa79ebaeed6ab5409ae00fce99bb99"
      },
      "cell_type": "code",
      "source": "y_pred[:, 0] = (y_pred[:, 0] > 0.5).astype(int)\ny_pred[:, 1] = (y_pred[:, 1] > 0.2).astype(int)\ny_pred[:, 2] = (y_pred[:, 2] > 0.2).astype(int)\ny_pred[:, 3] = (y_pred[:, 3] > 0.2).astype(int)\ny_pred[:, 4] = (y_pred[:, 4] > 0.2).astype(int)\ny_pred[:, 5] = (y_pred[:, 5] > 0.2).astype(int)\ny_pred[:, 6] = (y_pred[:, 6] > 0.2).astype(int)\ny_pred[:, 7] = (y_pred[:, 7] > 0.2).astype(int)\ny_pred[:, 8] = (y_pred[:, 8] > 0.1).astype(int)\ny_pred[:, 9] = (y_pred[:, 9] > 0.1).astype(int)\ny_pred[:, 10] = (y_pred[:, 10] > 0.1).astype(int)\ny_pred[:, 11] = (y_pred[:, 11] > 0.2).astype(int)\ny_pred[:, 12] = (y_pred[:, 12] > 0.2).astype(int)\ny_pred[:, 13] = (y_pred[:, 13] > 0.2).astype(int)\ny_pred[:, 14] = (y_pred[:, 14] > 0.2).astype(int)\ny_pred[:, 15] = (y_pred[:, 15] > 0.1).astype(int)\ny_pred[:, 16] = (y_pred[:, 16] > 0.2).astype(int)\ny_pred[:, 17] = (y_pred[:, 17] > 0.2).astype(int)\ny_pred[:, 18] = (y_pred[:, 18] > 0.2).astype(int)\ny_pred[:, 19] = (y_pred[:, 19] > 0.2).astype(int)\ny_pred[:, 20] = (y_pred[:, 20] > 0.1).astype(int)\ny_pred[:, 21] = (y_pred[:, 21] > 0.2).astype(int)\ny_pred[:, 22] = (y_pred[:, 22] > 0.2).astype(int)\ny_pred[:, 23] = (y_pred[:, 23] > 0.2).astype(int)\ny_pred[:, 24] = (y_pred[:, 24] > 0.2).astype(int)\ny_pred[:, 25] = (y_pred[:, 25] > 0.2).astype(int)\ny_pred[:, 26] = (y_pred[:, 26] > 0.2).astype(int)\ny_pred[:, 27] = (y_pred[:, 27] > 0.1).astype(int)",
      "execution_count": null,
      "outputs": []
    },
    {
      "metadata": {
        "trusted": true,
        "_uuid": "f1a44745f21fe6eb16da6af7cf8b77f1a3804b6e"
      },
      "cell_type": "code",
      "source": "y_sub = []\nfor label_set in y_pred:\n    index = 0\n    l = \"\"\n    for label in label_set:\n        if label == 1:\n            l += str(index)\n            l += \" \"\n            index += 1\n        else:\n            index += 1\n    y_sub.append(l[0:-1])",
      "execution_count": null,
      "outputs": []
    },
    {
      "metadata": {
        "trusted": true,
        "_uuid": "2eeb14d7789299f882eb52211dab31263496a78f"
      },
      "cell_type": "code",
      "source": "submission = pd.DataFrame({\"Predicted\":y_sub}, index=ids_test)\nsubmission.to_csv(\"submission.csv\", index=False)",
      "execution_count": null,
      "outputs": []
    },
    {
      "metadata": {
        "trusted": true,
        "_uuid": "d0cc07dbc56f33af3c7dbd754627f54204a50c30"
      },
      "cell_type": "code",
      "source": "# import the modules we'll need\nfrom IPython.display import HTML\nimport base64",
      "execution_count": null,
      "outputs": []
    },
    {
      "metadata": {
        "trusted": true,
        "_uuid": "fa95250d84a2e19ae93963b4b963007d1f32bb71"
      },
      "cell_type": "code",
      "source": "!ls",
      "execution_count": null,
      "outputs": []
    },
    {
      "metadata": {
        "trusted": true,
        "_uuid": "f1bb22f69a53aab7151a1134039282fadea1f7e8"
      },
      "cell_type": "code",
      "source": "# function that takes in a dataframe and creates a text link to  \n# download it (will only work for files < 2MB or so)\ndef create_download_link(df, title = \"Download CSV file\", filename = \"submission.csv\"):  \n    csv = df.to_csv()\n    b64 = base64.b64encode(csv.encode())\n    payload = b64.decode()\n    html = '<a download=\"{filename}\" href=\"data:text/csv;base64,{payload}\" target=\"_blank\">{title}</a>'\n    html = html.format(payload=payload,title=title,filename=filename)\n    return HTML(html)",
      "execution_count": null,
      "outputs": []
    },
    {
      "metadata": {
        "trusted": true,
        "_uuid": "51bbed584079a93b7b16fd41d27f7b8cde1e5220"
      },
      "cell_type": "code",
      "source": "create_download_link(submission)",
      "execution_count": null,
      "outputs": []
    },
    {
      "metadata": {
        "trusted": true,
        "_uuid": "95c51f00e52be99e1082016dd6b542b57da97f22"
      },
      "cell_type": "code",
      "source": "",
      "execution_count": null,
      "outputs": []
    }
  ],
  "metadata": {
    "kernelspec": {
      "display_name": "Python 3",
      "language": "python",
      "name": "python3"
    },
    "language_info": {
      "name": "python",
      "version": "3.6.6",
      "mimetype": "text/x-python",
      "codemirror_mode": {
        "name": "ipython",
        "version": 3
      },
      "pygments_lexer": "ipython3",
      "nbconvert_exporter": "python",
      "file_extension": ".py"
    }
  },
  "nbformat": 4,
  "nbformat_minor": 1
}